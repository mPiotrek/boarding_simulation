{
 "cells": [
  {
   "cell_type": "markdown",
   "metadata": {},
   "source": [
    "# Plane Boarding Simulation"
   ]
  },
  {
   "cell_type": "markdown",
   "metadata": {},
   "source": [
    "#### Prerequisites"
   ]
  },
  {
   "cell_type": "markdown",
   "metadata": {},
   "source": [
    "The project was created and tested using Python 3.7\\\n",
    "Additionally the renderer requires Pygame module installed.\n",
    "\n",
    "This document was created in Jupyter Notebook using matplotlib module.\\\n",
    "It was then exported as HTML for easier access without this software."
   ]
  },
  {
   "cell_type": "markdown",
   "metadata": {},
   "source": [
    "### Simulation architecture description"
   ]
  },
  {
   "cell_type": "markdown",
   "metadata": {},
   "source": [
    "The central part of the program is the `run` function from the `runner` module. Given the variable parameters at the input together with static parameters from `parameters` module it orchestrates the whole simulation. It's responsible for maintaning `execution_queue` heap for agents' actions as well as the `board` 2d list which provides agents with the information about their neighbourhood.\n",
    "The function `run` is a `generator`. That means we can easily iterate over values yielded by it. In this case generated values are sequential changes made by the agents. This behaviour is used in the module responsible for rendering. Even though it's separated from the rest of the code, it operates lazily. The strict renderer - on the other hand - would have to first generate all the data and only then it would be able to display it.\n",
    "\n",
    "The inner workings of the `run` function can be described as follows:\n",
    "0. initialize `execution_queue` and `board` using `initialize` function to get state appropriate the specified parameters (like `boarding_method`)\n",
    "1. yield all the agents' states\n",
    "2. loop until `execution_queue` is empty or tick limit exceeded:\n",
    "    0. take one agent from it\n",
    "    1. make the agent conduct next action using the `act` method and the current context\n",
    "    2. put agent back into the queue unless it wont take action anymore\n",
    "    3. yield agent's new state\n",
    "\n",
    "\n",
    "To make the method `act` work, each agent maintains its current state. It consists mainly of the `target`, `coords`, `state` fields. Based on these as well as its neighbourhood (obtained from `board`), each agent when `act`ed on, can `move` or change its `state`.\n",
    "\n",
    "The major `state`s are:\n",
    "0. `go` - responsible for moving towards the seat\n",
    "1. `luggage` - responsible for bag stowing\n",
    "2. `waiting` - responsible for noticing agents that need to be let in\n",
    "3. `shuffle_*` - responsible for the shuffles\n",
    "4. `done` - agent won't activate anymore; it has no other `act`ion to take"
   ]
  },
  {
   "cell_type": "markdown",
   "metadata": {},
   "source": [
    "### Efficiency of  different boarding strategies"
   ]
  },
  {
   "cell_type": "code",
   "execution_count": 1,
   "metadata": {},
   "outputs": [
    {
     "name": "stdout",
     "output_type": "stream",
     "text": [
      "{'random_order': [], 'back_to_front': [], 'front_to_back': [], 'back_to_front_four': [], 'front_to_back_four': [], 'window_middle_aisle': [], 'steffen_perfect': [], 'steffen_modified': []}\n"
     ]
    }
   ],
   "source": [
    "import pickle\n",
    "\n",
    "with open('./pickle_dumps/batch_methods_500_997698.pkl', 'rb') as f:\n",
    "    batch_methods = pickle.load(f)\n",
    "print(batch_methods)"
   ]
  },
  {
   "cell_type": "code",
   "execution_count": 2,
   "metadata": {},
   "outputs": [
    {
     "data": {
      "text/plain": [
       "Text(0, 0.5, 'Number of samples')"
      ]
     },
     "execution_count": 2,
     "metadata": {},
     "output_type": "execute_result"
    }
   ],
   "source": [
    "import matplotlib.pyplot as plt\n",
    "from collections import Counter\n",
    "\n",
    "boarding_methods = []\n",
    "timess = []\n",
    "for boarding_method, times in batch_methods.items():\n",
    "    times = [t for t in times if t is not None]\n",
    "    boarding_methods.append(boarding_method)\n",
    "    timess.append(times)\n",
    "\n",
    "\n",
    "plt.hist(timess, bins=250, label=timess)\n",
    "\n",
    "plt.title('Different boarding methods comparison')\n",
    "plt.xlabel('Total time [ticks]')\n",
    "plt.ylabel('Number of samples')"
   ]
  },
  {
   "cell_type": "markdown",
   "metadata": {},
   "source": [
    "### Seat shuffles and bag stowings impact comparison"
   ]
  },
  {
   "cell_type": "code",
   "execution_count": 3,
   "metadata": {},
   "outputs": [
    {
     "name": "stdout",
     "output_type": "stream",
     "text": [
      "{('random_order', False, False): [], ('random_order', False, True): [], ('random_order', True, False): [], ('random_order', True, True): [], ('back_to_front_four', False, False): [], ('back_to_front_four', False, True): [], ('back_to_front_four', True, False): [], ('back_to_front_four', True, True): []}\n"
     ]
    }
   ],
   "source": [
    "with open('./pickle_dumps/batch_comparison_100_190466.pkl', 'rb') as f:\n",
    "    batch_comparison = pickle.load(f)\n",
    "print(batch_comparison)"
   ]
  },
  {
   "cell_type": "code",
   "execution_count": 4,
   "metadata": {},
   "outputs": [
    {
     "ename": "SyntaxError",
     "evalue": "invalid syntax (<ipython-input-4-ab9a4b34c937>, line 5)",
     "output_type": "error",
     "traceback": [
      "\u001b[0;36m  File \u001b[0;32m\"<ipython-input-4-ab9a4b34c937>\"\u001b[0;36m, line \u001b[0;32m5\u001b[0m\n\u001b[0;31m    ax.hist(, bins=250)\u001b[0m\n\u001b[0m            ^\u001b[0m\n\u001b[0;31mSyntaxError\u001b[0m\u001b[0;31m:\u001b[0m invalid syntax\n"
     ]
    }
   ],
   "source": [
    "for i, times in enumerate(timess):\n",
    "    \n",
    "    ax = plt.subplot(2, 4, i + 1)\n",
    "    \n",
    "    ax.hist(, bins=250)\n",
    "    \n",
    "    ax.set_title('', size = 30)\n",
    "    ax.set_xlabel('', size = 22)\n",
    "    ax.set_ylabel('', size= 22)\n",
    "\n",
    "plt.tight_layout()\n",
    "plt.show()"
   ]
  }
 ],
 "metadata": {
  "kernelspec": {
   "display_name": "Python 3",
   "language": "python",
   "name": "python3"
  },
  "language_info": {
   "codemirror_mode": {
    "name": "ipython",
    "version": 3
   },
   "file_extension": ".py",
   "mimetype": "text/x-python",
   "name": "python",
   "nbconvert_exporter": "python",
   "pygments_lexer": "ipython3",
   "version": "3.7.5"
  }
 },
 "nbformat": 4,
 "nbformat_minor": 2
}
