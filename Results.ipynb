{
 "cells": [
  {
   "cell_type": "markdown",
   "metadata": {},
   "source": [
    "# Plane Boarding Simulation"
   ]
  },
  {
   "cell_type": "markdown",
   "metadata": {},
   "source": [
    "#### Prerequisites"
   ]
  },
  {
   "cell_type": "markdown",
   "metadata": {},
   "source": [
    "The project was created and tested using Python 3.7\\\n",
    "Additionally the renderer requires Pygame module installed.\n",
    "\n",
    "This document was created in Jupyter Notebook using matplotlib and numpy modules.\\\n",
    "It was then exported as HTML for easier access without this software."
   ]
  },
  {
   "cell_type": "markdown",
   "metadata": {},
   "source": [
    "### Simulation architecture description"
   ]
  },
  {
   "cell_type": "markdown",
   "metadata": {},
   "source": [
    "The central part of the program is the `run` function from the `runner` module. Given the variable parameters at the input together with static parameters from `parameters` module it orchestrates the whole simulation. It's responsible for maintaning `execution_queue` heap for agents' actions as well as the `board` 2d list which provides agents with the information about their neighbourhood.\n",
    "The function `run` is a `generator`. That means we can easily iterate over values yielded by it. In this case generated values are sequential changes made by the agents. This behaviour is used in the module responsible for rendering. Even though it's separated from the rest of the code, it operates lazily. The strict renderer - on the other hand - would have to first generate all the data and only then it would be able to display it.\n",
    "\n",
    "The inner workings of the `run` function can be described as follows:\n",
    "0. initialize `execution_queue` and `board` using `initialize` function to get state appropriate to the specified parameters (like `boarding_method`)\n",
    "1. yield all the agents' states\n",
    "2. loop until `execution_queue` is empty or tick limit exceeded:\n",
    "    0. take one agent from it\n",
    "    1. make the agent conduct next action using the `act` method and the current context\n",
    "    2. put agent back into the queue unless it wont take action anymore\n",
    "    3. yield agent's new state\n",
    "\n",
    "\n",
    "To make the method `act` work, each agent maintains its current state. It consists mainly of the `target`, `coords`, `state` fields. Based on these as well as its neighbourhood (obtained from `board`), each agent when `act`ed on, can `move` or change its `state`.\n",
    "\n",
    "The major `state`s are:\n",
    "0. `go` - responsible for moving towards the seat\n",
    "1. `luggage` - responsible for bag stowing\n",
    "2. `waiting` - responsible for noticing agents that need to be let in\n",
    "3. `shuffle_*` - responsible for the shuffles\n",
    "4. `done` - agent won't activate anymore; it has no other `act`ion to take"
   ]
  },
  {
   "cell_type": "markdown",
   "metadata": {},
   "source": [
    "### Efficiency of  different boarding strategies"
   ]
  },
  {
   "cell_type": "code",
   "execution_count": null,
   "metadata": {},
   "outputs": [],
   "source": [
    "import matplotlib.pyplot as plt\n",
    "import numpy\n",
    "import statistics\n",
    "import pickle"
   ]
  },
  {
   "cell_type": "code",
   "execution_count": null,
   "metadata": {},
   "outputs": [],
   "source": [
    "with open('./pickle_dumps/batch_methods_500_860772.pkl', 'rb') as f:\n",
    "    batch_methods = pickle.load(f)"
   ]
  },
  {
   "cell_type": "code",
   "execution_count": null,
   "metadata": {},
   "outputs": [],
   "source": [
    "bins = numpy.linspace(750, 2250, 200)\n",
    "\n",
    "for boarding_method, times in batch_methods.items():\n",
    "    times = [t for t in times if t is not None]\n",
    "    plt.hist(times, bins=bins, alpha=0.75, label=boarding_method)\n",
    "\n",
    "plt.title(\"Different boarding methods comparison\")\n",
    "plt.xlabel(\"Total time [ticks]\")\n",
    "plt.ylabel(\"Number of samples\")\n",
    "plt.legend(loc='upper right')\n",
    "plt.show()"
   ]
  },
  {
   "cell_type": "markdown",
   "metadata": {},
   "source": [
    "### Seat shuffles and bag stowings impact comparison"
   ]
  },
  {
   "cell_type": "code",
   "execution_count": null,
   "metadata": {},
   "outputs": [],
   "source": [
    "with open(\"./pickle_dumps/batch_comparison_500_201493.pkl\", 'rb') as f:\n",
    "    batch_comparison = pickle.load(f)"
   ]
  },
  {
   "cell_type": "code",
   "execution_count": null,
   "metadata": {},
   "outputs": [],
   "source": [
    "bins_yst = numpy.linspace(900, 1200, 150)\n",
    "bins_nst = numpy.linspace(550, 850, 150)\n",
    "top = 150\n",
    "\n",
    "fig = plt.figure(figsize=(6.4*2, 4.8*3))\n",
    "\n",
    "for i, (bmt, timesss) in enumerate(batch_comparison.items()):\n",
    "    for j, (nsh, timess) in enumerate(timesss.items()):\n",
    "        for k, (nst, times) in enumerate(timess.items()):\n",
    "            ax = plt.subplot(4, 2, (2*i + 4*j + 1*k + 1))\n",
    "            \n",
    "            times = [t for t in times if t is not None]\n",
    "            ax.hist(times, bins=(bins_nst if nst else bins_yst), alpha=0.75)\n",
    "            ax.set_ylim(top=top)\n",
    "            \n",
    "            mu = statistics.mean(times)\n",
    "            sigma = statistics.stdev(times)\n",
    "            ax.text(0.5, 0.75, f\"$\\\\mu={sigma:.2f},\\\\ \\\\sigma={mu:.2f}$\",\n",
    "            horizontalalignment='center',\n",
    "            verticalalignment='center',\n",
    "            transform = ax.transAxes)\n",
    "\n",
    "            ax.set_title(bmt + (\", no_shuffles\" if nsh else \"\") + (\", no_stowing\" if nst else \"\"))\n",
    "            # ax.set_xlabel('')\n",
    "            ax.set_ylabel(\"Number of samples\")\n",
    "\n",
    "fig.tight_layout()\n",
    "plt.show()"
   ]
  },
  {
   "cell_type": "code",
   "execution_count": null,
   "metadata": {},
   "outputs": [],
   "source": []
  },
  {
   "cell_type": "code",
   "execution_count": null,
   "metadata": {},
   "outputs": [],
   "source": [
    "for i, (bmt, timesss) in enumerate(batch_comparison.items()):\n",
    "    for j, (nsh, timess) in enumerate(timesss.items()):\n",
    "        for k, (nst, times) in enumerate(timess.items()):\n",
    "            print(len([None for time in times if time%2==0]))"
   ]
  },
  {
   "cell_type": "code",
   "execution_count": null,
   "metadata": {},
   "outputs": [],
   "source": []
  }
 ],
 "metadata": {
  "kernelspec": {
   "display_name": "Python 3",
   "language": "python",
   "name": "python3"
  },
  "language_info": {
   "codemirror_mode": {
    "name": "ipython",
    "version": 3
   },
   "file_extension": ".py",
   "mimetype": "text/x-python",
   "name": "python",
   "nbconvert_exporter": "python",
   "pygments_lexer": "ipython3",
   "version": "3.7.5"
  }
 },
 "nbformat": 4,
 "nbformat_minor": 2
}
